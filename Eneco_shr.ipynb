{
 "cells": [
  {
   "cell_type": "code",
   "execution_count": 44,
   "metadata": {},
   "outputs": [],
   "source": [
    "from seleniumwire import webdriver\n",
    "import json\n",
    "#from selenium import webdriver\n",
    "from selenium.webdriver.chrome.service import Service\n",
    "from selenium.webdriver.common.keys import Keys\n",
    "from selenium.webdriver.common.by import By\n",
    "from selenium.webdriver.support.wait import WebDriverWait\n",
    "from selenium.webdriver.support import expected_conditions as EC\n",
    "import time\n",
    "import datetime\n",
    "import requests\n",
    "import pandas as pd"
   ]
  },
  {
   "cell_type": "code",
   "execution_count": 45,
   "metadata": {},
   "outputs": [],
   "source": [
    "path = \"C:\\\\Users\\\\PATH TO YOUR CHROMEDRIVER\\\\chromedriver.exe\"\n",
    "website = \"https://inloggen.eneco.nl/\"\n"
   ]
  },
  {
   "cell_type": "code",
   "execution_count": 46,
   "metadata": {},
   "outputs": [],
   "source": [
    "options = webdriver.ChromeOptions()\n",
    "options.set_capability(\"goog:loggingPrefs\", {'performance': 'ALL'})\n",
    "driver = webdriver.Chrome(executable_path=path, chrome_options=options)\n",
    "\n",
    "driver.implicitly_wait(20)\n",
    "driver.get(website)"
   ]
  },
  {
   "cell_type": "code",
   "execution_count": 47,
   "metadata": {},
   "outputs": [],
   "source": [
    "try: #catches non connection to internet of WA\n",
    "        time.sleep(5)\n",
    "        inlog = WebDriverWait(driver,40).until(EC.presence_of_element_located((By.CSS_SELECTOR,\"input#okta-signin-username\")))\n",
    "        inlog.send_keys('your e-mail')\n",
    "except:\n",
    "    driver.save_screenshot('fail_login.png')\n",
    "    driver.quit()\n",
    "    print(\"fail\")"
   ]
  },
  {
   "cell_type": "code",
   "execution_count": 48,
   "metadata": {},
   "outputs": [],
   "source": [
    "try: #catches non connection to internet of WA\n",
    "        time.sleep(5)\n",
    "        btn = WebDriverWait(driver,40).until(EC.presence_of_element_located((By.CSS_SELECTOR,\"input#okta-signin-submit\")))\n",
    "        btn.click()\n",
    "except:\n",
    "    driver.save_screenshot('fail_button.png')\n",
    "    driver.quit()\n",
    "    print(\"fail\")"
   ]
  },
  {
   "cell_type": "code",
   "execution_count": 49,
   "metadata": {},
   "outputs": [],
   "source": [
    "try: #catches non connection to internet of WA\n",
    "        time.sleep(5)\n",
    "        inlog = WebDriverWait(driver,40).until(EC.presence_of_element_located((By.CSS_SELECTOR,\"input#input52\")))\n",
    "        inlog.send_keys('YOUR PASSWORD')\n",
    "except:\n",
    "    driver.save_screenshot('fail_pwd.png')\n",
    "    driver.quit()\n",
    "    print(\"fail\")"
   ]
  },
  {
   "cell_type": "code",
   "execution_count": 50,
   "metadata": {},
   "outputs": [],
   "source": [
    "try: #catches non connection to internet of WA\n",
    "        time.sleep(5)\n",
    "        btn = WebDriverWait(driver,40).until(EC.presence_of_element_located((By.CSS_SELECTOR,\"input.button.button-primary\")))\n",
    "        btn.click()\n",
    "except:\n",
    "    driver.save_screenshot('fail_submit.png')\n",
    "    driver.quit()\n",
    "    print(\"fail\")"
   ]
  },
  {
   "cell_type": "code",
   "execution_count": 51,
   "metadata": {},
   "outputs": [],
   "source": [
    "try: #catches non connection to internet of WA\n",
    "        time.sleep(5)\n",
    "        btn = WebDriverWait(driver,40).until(EC.presence_of_element_located((By.CSS_SELECTOR,\"button.c-diyrn.c-PJLV.c-diyrn-gsLTSO-size-regular.c-diyrn-hslrZy-cv.sparky-button\")))\n",
    "        btn.click()\n",
    "except:\n",
    "    driver.save_screenshot('fail_cookie.png')\n",
    "    driver.quit()\n",
    "    print(\"fail\")"
   ]
  },
  {
   "cell_type": "code",
   "execution_count": 52,
   "metadata": {},
   "outputs": [],
   "source": [
    "del driver.requests"
   ]
  },
  {
   "cell_type": "code",
   "execution_count": 53,
   "metadata": {},
   "outputs": [],
   "source": [
    "driver.get('https://www.eneco.nl/mijn-eneco/verbruik')\n",
    "time.sleep(5)"
   ]
  },
  {
   "cell_type": "code",
   "execution_count": 54,
   "metadata": {},
   "outputs": [],
   "source": [
    "for r in driver.iter_requests():\n",
    "    if str(r).find('usages') > 0:\n",
    "        #print(r.headers['Authorization'])\n",
    "        au = r.headers['authorization']\n",
    "        apikey = r.headers['apikey']       \n"
   ]
  },
  {
   "cell_type": "code",
   "execution_count": 55,
   "metadata": {},
   "outputs": [],
   "source": [
    "driver.quit()"
   ]
  },
  {
   "cell_type": "code",
   "execution_count": 56,
   "metadata": {},
   "outputs": [
    {
     "name": "stderr",
     "output_type": "stream",
     "text": [
      "c:\\Program Files (x86)\\Microsoft Visual Studio\\Shared\\Python37_64\\lib\\site-packages\\urllib3\\connectionpool.py:1020: InsecureRequestWarning: Unverified HTTPS request is being made to host 'api-digital.enecogroup.com'. Adding certificate verification is strongly advised. See: https://urllib3.readthedocs.io/en/1.26.x/advanced-usage.html#ssl-warnings\n",
      "  InsecureRequestWarning,\n"
     ]
    }
   ],
   "source": [
    "r=requests.get(\"https://api-digital.enecogroup.com/dxpweb/nl/eneco/customers/41128821/accounts/2/usages?aggregation=Day&interval=Hour&start=2022-12-25&end=2023-01-03&addBudget=false&addWeather=true&extrapolate=false\", headers={\"authorization\":au, \"apikey\":apikey}, verify=False)\n",
    "result = r.content"
   ]
  },
  {
   "cell_type": "code",
   "execution_count": 57,
   "metadata": {},
   "outputs": [],
   "source": [
    "r = json.loads(result)"
   ]
  },
  {
   "cell_type": "code",
   "execution_count": 58,
   "metadata": {},
   "outputs": [],
   "source": [
    "df = pd.DataFrame(r['data']['usages'])"
   ]
  },
  {
   "cell_type": "code",
   "execution_count": 59,
   "metadata": {},
   "outputs": [],
   "source": [
    "dates = []\n",
    "usages = []\n",
    "\n",
    "for entry in df['entries']:\n",
    "    for a in entry:    \n",
    "        dates.append(a['actual']['date'])\n",
    "        usages.append(a['actual']['totalUsageCostInclVat'])"
   ]
  },
  {
   "cell_type": "code",
   "execution_count": 60,
   "metadata": {},
   "outputs": [],
   "source": [
    "result = pd.concat([pd.DataFrame(dates), pd.DataFrame(usages)], axis=1)"
   ]
  }
 ],
 "metadata": {
  "kernelspec": {
   "display_name": "Python 3",
   "language": "python",
   "name": "python3"
  },
  "language_info": {
   "codemirror_mode": {
    "name": "ipython",
    "version": 3
   },
   "file_extension": ".py",
   "mimetype": "text/x-python",
   "name": "python",
   "nbconvert_exporter": "python",
   "pygments_lexer": "ipython3",
   "version": "3.7.8 (tags/v3.7.8:4b47a5b6ba, Jun 28 2020, 08:53:46) [MSC v.1916 64 bit (AMD64)]"
  },
  "varInspector": {
   "cols": {
    "lenName": 16,
    "lenType": 16,
    "lenVar": 40
   },
   "kernels_config": {
    "python": {
     "delete_cmd_postfix": "",
     "delete_cmd_prefix": "del ",
     "library": "var_list.py",
     "varRefreshCmd": "print(var_dic_list())"
    },
    "r": {
     "delete_cmd_postfix": ") ",
     "delete_cmd_prefix": "rm(",
     "library": "var_list.r",
     "varRefreshCmd": "cat(var_dic_list()) "
    }
   },
   "types_to_exclude": [
    "module",
    "function",
    "builtin_function_or_method",
    "instance",
    "_Feature"
   ],
   "window_display": false
  },
  "vscode": {
   "interpreter": {
    "hash": "0a54084e6b208ee8d1ce3989ffc20924477a5f55f5a43e22e699a6741623861e"
   }
  }
 },
 "nbformat": 4,
 "nbformat_minor": 4
}
